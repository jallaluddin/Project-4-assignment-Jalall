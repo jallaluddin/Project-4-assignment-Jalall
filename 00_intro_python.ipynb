{
  "nbformat": 4,
  "nbformat_minor": 0,
  "metadata": {
    "colab": {
      "provenance": [],
      "authorship_tag": "ABX9TyPp+F3suVoN+yVKSh6egryc",
      "include_colab_link": true
    },
    "kernelspec": {
      "name": "python3",
      "display_name": "Python 3"
    },
    "language_info": {
      "name": "python"
    }
  },
  "cells": [
    {
      "cell_type": "markdown",
      "metadata": {
        "id": "view-in-github",
        "colab_type": "text"
      },
      "source": [
        "<a href=\"https://colab.research.google.com/github/jallaluddin/Project-4-assignment-Jalall/blob/main/00_intro_python.ipynb\" target=\"_parent\"><img src=\"https://colab.research.google.com/assets/colab-badge.svg\" alt=\"Open In Colab\"/></a>"
      ]
    },
    {
      "cell_type": "code",
      "execution_count": 2,
      "metadata": {
        "colab": {
          "base_uri": "https://localhost:8080/"
        },
        "id": "tBX9IPlVcKI4",
        "outputId": "dd7de8fe-f3f1-43ca-9e18-c21cc48dddf1"
      },
      "outputs": [
        {
          "output_type": "stream",
          "name": "stdout",
          "text": [
            "01_add_two_numbers\n",
            "This program adds two numbers.\n",
            "Enter first number: 4\n",
            "Enter second number: 5\n",
            "The total is 9.\n"
          ]
        }
      ],
      "source": [
        "print(\"01_add_two_numbers\")\n",
        "\n",
        "def main():\n",
        "    print(\"This program adds two numbers.\")\n",
        "    num1 : str = input(\"Enter first number: \")\n",
        "    num1 : int = int(num1)\n",
        "    num2  : str = input(\"Enter second number: \")\n",
        "    num2 : int = int(num2)\n",
        "    total : int = num1 + num2\n",
        "    print(\"The total is \" + str(total) + \".\")\n",
        "\n",
        "if __name__ == '__main__':\n",
        "    main()"
      ]
    },
    {
      "cell_type": "code",
      "source": [
        "print(\"02_agreement_bot\")\n",
        "\n",
        "def bot():\n",
        "  animal = str(input(\"what is your favourite animal\"))\n",
        "  print(f\"my favourite animal is also {animal}!\")\n",
        "if __name__ == '__main__':\n",
        "    bot()\n",
        "\n",
        "bot()"
      ],
      "metadata": {
        "colab": {
          "base_uri": "https://localhost:8080/"
        },
        "id": "N_qB036keq7I",
        "outputId": "979bce62-3b72-4209-a34e-2dc11832d87b"
      },
      "execution_count": 4,
      "outputs": [
        {
          "output_type": "stream",
          "name": "stdout",
          "text": [
            "02_agreement_bot\n",
            "what is your favourite animallion\n",
            "my favourite animal is also lion!\n",
            "what is your favourite animaltiger\n",
            "my favourite animal is also tiger!\n"
          ]
        }
      ]
    },
    {
      "cell_type": "code",
      "source": [
        "print(\"03_fahrenheit_to_celsius\")\n",
        "\n",
        "def temp():\n",
        "  print(\"This program converts temperatures from Fahrenheit to Celsius.\")\n",
        "  fahrenheit : str = input(\"Enter the temperature in Fahrenheit: \")\n",
        "  fahrenheit : float = float(fahrenheit)\n",
        "  celsius : float = (fahrenheit - 32) * 5/9\n",
        "  print(f\"The temperature in Celsius is {celsius:.1f} degrees.\")\n",
        "if __name__ == '__main__':\n",
        "    temp()\n",
        "\n"
      ],
      "metadata": {
        "colab": {
          "base_uri": "https://localhost:8080/"
        },
        "id": "otasF_JzgQp3",
        "outputId": "1df7602d-035f-4e37-ee31-1f0839e007d9"
      },
      "execution_count": 6,
      "outputs": [
        {
          "output_type": "stream",
          "name": "stdout",
          "text": [
            "03_fahrenheit_to_celsius\n",
            "This program converts temperatures from Fahrenheit to Celsius.\n",
            "Enter the temperature in Fahrenheit: 120\n",
            "The temperature in Celsius is 48.9 degrees.\n"
          ]
        }
      ]
    },
    {
      "cell_type": "code",
      "source": [
        "print(\"04_how_old_are_they\")\n",
        "\n",
        "def add_age():\n",
        "  print(\"This program solves the age-related riddle!\")\n",
        "  anton : int = 21\n",
        "  beth : int = anton + 6\n",
        "  chen : int = beth - 20\n",
        "  drew : int = chen + anton\n",
        "  ethan : int = chen\n",
        "  print(f\"Anton is {anton}\")\n",
        "  print(f\"Beth is {beth}\")\n",
        "  print(f\"Chen is {chen}\")\n",
        "  print(f\"Drew is {drew}\")\n",
        "  print(f\"Ethan is {ethan}\")\n",
        "if __name__ == '__main__':\n",
        "    add_age()\n"
      ],
      "metadata": {
        "colab": {
          "base_uri": "https://localhost:8080/"
        },
        "id": "xks7E6W5iohH",
        "outputId": "ca18e62a-81fa-4c49-e62a-ff5e917faa1b"
      },
      "execution_count": 7,
      "outputs": [
        {
          "output_type": "stream",
          "name": "stdout",
          "text": [
            "04_how_old_are_they\n",
            "This program solves the age-related riddle!\n",
            "Anton is 21\n",
            "Beth is 27\n",
            "Chen is 7\n",
            "Drew is 28\n",
            "Ethan is 7\n"
          ]
        }
      ]
    },
    {
      "cell_type": "code",
      "source": [
        "print(\"05_triangle_perimeter\")\n",
        "\n",
        "def triangle ():\n",
        "    print(\"this code sum the 3 side lengths of the triangle\")\n",
        "    side1: float = float(input(\"What is the length of side 1? \"))\n",
        "    side2: float = float(input(\"What is the length of side 2? \"))\n",
        "    side3: float = float(input(\"What is the length of side 3? \"))\n",
        "\n",
        "    print(\"The perimeter of the triangle is \" + str(side1 + side2 + side3))\n",
        "\n",
        "\n",
        "\n",
        "if __name__ == '__main__':\n",
        "    triangle()"
      ],
      "metadata": {
        "colab": {
          "base_uri": "https://localhost:8080/"
        },
        "id": "hRE14YNKlmPn",
        "outputId": "92580a27-8450-43a9-ad2b-28373633dd4e"
      },
      "execution_count": 8,
      "outputs": [
        {
          "output_type": "stream",
          "name": "stdout",
          "text": [
            "05_triangle_perimeter\n",
            "this code sum the 3 side lengths of the triangle\n",
            "What is the length of side 1? 5\n",
            "What is the length of side 2? 5\n",
            "What is the length of side 3? 5\n",
            "The perimeter of the triangle is 15.0\n"
          ]
        }
      ]
    },
    {
      "cell_type": "code",
      "source": [
        "print(\"06_square_number\")\n",
        "\n",
        "def main():\n",
        "    print(\"This program calculates the square of a number.\")\n",
        "    num: float = float(input(\"Type a number to see its square: \"))\n",
        "    print(str(num) + \" squared is \" + str(num ** 2))\n",
        "\n",
        "\n",
        "if __name__ == '__main__':\n",
        "    main()"
      ],
      "metadata": {
        "colab": {
          "base_uri": "https://localhost:8080/"
        },
        "id": "5USVYM5xm_E-",
        "outputId": "8097e998-6638-4c84-b1c8-f9180e2229cc"
      },
      "execution_count": 11,
      "outputs": [
        {
          "output_type": "stream",
          "name": "stdout",
          "text": [
            "06_square_number\n",
            "This program calculates the square of a number.\n",
            "Type a number to see its square: 4\n",
            "4.0 squared is 16.0\n"
          ]
        }
      ]
    }
  ]
}